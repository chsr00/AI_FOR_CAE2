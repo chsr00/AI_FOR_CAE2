{
  "nbformat": 4,
  "nbformat_minor": 0,
  "metadata": {
    "colab": {
      "provenance": [],
      "authorship_tag": "ABX9TyNeWsYgIAXX/0jFFCs5OiQ9",
      "include_colab_link": true
    },
    "kernelspec": {
      "name": "python3",
      "display_name": "Python 3"
    },
    "language_info": {
      "name": "python"
    }
  },
  "cells": [
    {
      "cell_type": "markdown",
      "metadata": {
        "id": "view-in-github",
        "colab_type": "text"
      },
      "source": [
        "<a href=\"https://colab.research.google.com/github/chsr00/AI_FOR_CAE2/blob/main/AE_model_v2_2_ipynb\" target=\"_parent\"><img src=\"https://colab.research.google.com/assets/colab-badge.svg\" alt=\"Open In Colab\"/></a>"
      ]
    },
    {
      "cell_type": "code",
      "execution_count": null,
      "metadata": {
        "colab": {
          "base_uri": "https://localhost:8080/"
        },
        "id": "vV1QPoOg0Cli",
        "outputId": "76f3ad9a-0376-4b26-e23f-81ce64ceda48"
      },
      "outputs": [
        {
          "output_type": "stream",
          "name": "stdout",
          "text": [
            "Colab only includes TensorFlow 2.x; %tensorflow_version has no effect.\n"
          ]
        }
      ],
      "source": [
        "%tensorflow_version 2.x"
      ]
    },
    {
      "cell_type": "code",
      "source": [
        "import numpy as np\n",
        "import matplotlib.pyplot as plt\n",
        "import os\n",
        "import cv2 as cv\n",
        "from sklearn.model_selection import train_test_split\n",
        "\n",
        "import tensorflow as tf\n",
        "from tensorflow import shape,math\n",
        "from tensorflow.keras import Input,layers,Model\n",
        "from tensorflow.keras.losses import mse,binary_crossentropy\n",
        "from tensorflow.keras.utils import plot_model\n",
        "\n",
        "print(tf.__version__)"
      ],
      "metadata": {
        "colab": {
          "base_uri": "https://localhost:8080/"
        },
        "id": "Ky45G-ND0Qlq",
        "outputId": "e2ff2c23-1559-48a3-ad1c-c7ebecc84fe2"
      },
      "execution_count": null,
      "outputs": [
        {
          "output_type": "stream",
          "name": "stdout",
          "text": [
            "2.12.0\n"
          ]
        }
      ]
    },
    {
      "cell_type": "markdown",
      "source": [
        "데이터 불러오기"
      ],
      "metadata": {
        "id": "VBuaP64s0Wv7"
      }
    },
    {
      "cell_type": "markdown",
      "source": [],
      "metadata": {
        "id": "gVL2PKfyJG03"
      }
    },
    {
      "cell_type": "code",
      "source": [
        "#from google.colab import files\n",
        "\n",
        "#uploaded = files.upload()\n",
        "\n",
        "## 코드가 돌아가면 파일선택 버튼을 눌러서 upload할 파일 선택\n",
        "#for fn in uploaded.keys():\n",
        "#  print('User uploaded file \"{name}\" with length {length} bytes'.format(\n",
        "#      name=fn, length=len(uploaded[fn])))\n",
        "\n",
        "!git clone https://github.com/chsr00/AI_FOR_CAE2.git"
      ],
      "metadata": {
        "colab": {
          "base_uri": "https://localhost:8080/"
        },
        "id": "fGzKr4FH0bBz",
        "outputId": "552b8769-e250-4c93-d6d9-44f225a0018f"
      },
      "execution_count": null,
      "outputs": [
        {
          "output_type": "stream",
          "name": "stdout",
          "text": [
            "Cloning into 'AI_FOR_CAE2'...\n",
            "remote: Enumerating objects: 21, done.\u001b[K\n",
            "remote: Counting objects: 100% (21/21), done.\u001b[K\n",
            "remote: Compressing objects: 100% (19/19), done.\u001b[K\n",
            "remote: Total 21 (delta 6), reused 0 (delta 0), pack-reused 0\u001b[K\n",
            "Receiving objects: 100% (21/21), 2.80 MiB | 6.88 MiB/s, done.\n",
            "Resolving deltas: 100% (6/6), done.\n"
          ]
        }
      ]
    },
    {
      "cell_type": "code",
      "source": [
        "! mkdir data_3000\n",
        "! unzip ./AI_FOR_CAE2/data_3000.zip\n",
        "! pwd\n",
        "#! ls -al\n",
        "#! cd /content/AI_FOR_CAE2\n",
        "#! ls -al\n",
        "#! mv *.jpg ./data_3000/\n",
        "#!ls -al ./data_3000"
      ],
      "metadata": {
        "id": "zoF0EyMz0eIT"
      },
      "execution_count": null,
      "outputs": []
    },
    {
      "cell_type": "code",
      "source": [
        "# 압축해제된 데이터 경로를 찾아 복사해서 붙여넣어주세요\n",
        "src = './data_3000/'\n",
        "\n",
        "# 이미지 읽기 및 출력\n",
        "def img_read_plot(src,file):\n",
        "    img = cv.imread(src+file,cv.COLOR_BGR2GRAY)\n",
        "    plt.imshow(img)\n",
        "    plt.xticks([]) # x축 눈금\n",
        "    plt.yticks([]) # y축 눈금\n",
        "    plt.show()\n",
        "    return img\n",
        "\n",
        "#이미지 읽기\n",
        "def img_read(src,file):\n",
        "    img = cv.imread(src+file,cv.COLOR_BGR2GRAY)\n",
        "    return img\n",
        "\n",
        "#src 경로에 있는 파일 명을 저장합니다.\n",
        "files = os.listdir(src)\n",
        "\n",
        "# 경로와 파일명을 입력으로 넣어 확인하고\n",
        "# 데이터를 255로 나눠서 0~1사이로 정규화 하여 X 리스트에 넣습니다.\n",
        "\n",
        "X,Y = [],[]\n",
        "for file in files:\n",
        "  X.append(img_read(src,file)/255.)\n",
        "  Y.append(float(file[:-4]))\n",
        "\n",
        "\n",
        "# Train set, Test set으로 나누기\n",
        "x_train, x_test, y_train, y_test = train_test_split(X,Y, test_size=0.2, random_state=1,shuffle=True)\n",
        "x_train = np.array(x_train)\n",
        "x_test = np.array(x_test)\n",
        "\n",
        "\n",
        " # (image,image)이미지를 크기의 (image*image,)크기의 벡터로 만듭니다\n",
        "x_train = x_train.reshape((len(x_train), np.prod(x_train.shape[1:]))).astype('float32')\n",
        "x_test = x_test.reshape((len(x_test), np.prod(x_test.shape[1:]))).astype('float32')\n",
        "\n",
        "print(\"Datasets_train_shape:{}  Datasets_test_shape:{}\".format(np.shape(x_train),np.shape(x_test)))"
      ],
      "metadata": {
        "colab": {
          "base_uri": "https://localhost:8080/"
        },
        "id": "W4Jh9SSv0kJE",
        "outputId": "f0c82c49-235a-464e-b808-436d3096a36e"
      },
      "execution_count": null,
      "outputs": [
        {
          "output_type": "stream",
          "name": "stdout",
          "text": [
            "Datasets_train_shape:(2400, 3136)  Datasets_test_shape:(600, 3136)\n"
          ]
        }
      ]
    },
    {
      "cell_type": "markdown",
      "source": [
        "VAE 모델만들기"
      ],
      "metadata": {
        "id": "FJ5mw1aV03_d"
      }
    },
    {
      "cell_type": "code",
      "source": [
        "# network parameters\n",
        "image_size = np.shape(x_train[0])[0]     #3136\n",
        "mid_dim = 512\n",
        "h_dim = 40"
      ],
      "metadata": {
        "id": "JqPsLqBq00wF"
      },
      "execution_count": null,
      "outputs": []
    },
    {
      "cell_type": "code",
      "source": [
        "def autoencoder():\n",
        "  input_img = tf.keras.layers.Input(shape=(image_size,))\n",
        "\n",
        "  #인코더 정의\n",
        "  encoded = tf.keras.layers.Dense(mid_dim,activation = 'relu')(input_img)\n",
        "  encoded = tf.keras.layers.Dense(h_dim, activation='relu')(encoded)\n",
        "\n",
        "  #디코더 정의\n",
        "  decoded = tf.keras.layers.Dense(mid_dim,activation = 'relu')(encoded)\n",
        "  decoded = tf.keras.layers.Dense(image_size, activation='sigmoid')(decoded)\n",
        "\n",
        "  #AE 정의\n",
        "  return Model(input_img,decoded)\n",
        "\n",
        "#AE 모델 정의\n",
        "model = autoencoder()\n",
        "\n",
        "#모델 네트워크 확인\n",
        "model.summary()\n",
        "plot_model(model, to_file='ae.png', show_shapes=True)"
      ],
      "metadata": {
        "id": "1RoVclwp0-71",
        "outputId": "b8e2c46e-0286-4c2a-8fb0-11eb7752b174",
        "colab": {
          "base_uri": "https://localhost:8080/",
          "height": 789
        }
      },
      "execution_count": null,
      "outputs": [
        {
          "output_type": "stream",
          "name": "stdout",
          "text": [
            "Model: \"encoder\"\n",
            "__________________________________________________________________________________________________\n",
            " Layer (type)                   Output Shape         Param #     Connected to                     \n",
            "==================================================================================================\n",
            " input_shape (InputLayer)       [(None, 3136)]       0           []                               \n",
            "                                                                                                  \n",
            " encoder_hidden1 (Dense)        (None, 512)          1606144     ['input_shape[0][0]']            \n",
            "                                                                                                  \n",
            " z_mean (Dense)                 (None, 2)            1026        ['encoder_hidden1[0][0]']        \n",
            "                                                                                                  \n",
            " z_log_var (Dense)              (None, 2)            1026        ['encoder_hidden1[0][0]']        \n",
            "                                                                                                  \n",
            " z_sample (Lambda)              (None, 2)            0           ['z_mean[0][0]',                 \n",
            "                                                                  'z_log_var[0][0]']              \n",
            "                                                                                                  \n",
            "==================================================================================================\n",
            "Total params: 1,608,196\n",
            "Trainable params: 1,608,196\n",
            "Non-trainable params: 0\n",
            "__________________________________________________________________________________________________\n"
          ]
        },
        {
          "output_type": "execute_result",
          "data": {
            "image/png": "[encoded data removed]",
            "text/plain": [
              "<IPython.core.display.Image object>"
            ]
          },
          "metadata": {},
          "execution_count": 13
        }
      ]
    },
    {
      "cell_type": "code",
      "source": [],
      "metadata": {
        "id": "qZtGzNH41Fpt",
        "outputId": "9781a5ff-41e6-4431-ea2b-cac1641ba06d",
        "colab": {
          "base_uri": "https://localhost:8080/",
          "height": 587
        }
      },
      "execution_count": null,
      "outputs": [
        {
          "output_type": "stream",
          "name": "stdout",
          "text": [
            "Model: \"decoder\"\n",
            "_________________________________________________________________\n",
            " Layer (type)                Output Shape              Param #   \n",
            "=================================================================\n",
            " input_z (InputLayer)        [(None, 2)]               0         \n",
            "                                                                 \n",
            " decoder_hidden (Dense)      (None, 512)               1536      \n",
            "                                                                 \n",
            " output (Dense)              (None, 3136)              1608768   \n",
            "                                                                 \n",
            "=================================================================\n",
            "Total params: 1,610,304\n",
            "Trainable params: 1,610,304\n",
            "Non-trainable params: 0\n",
            "_________________________________________________________________\n"
          ]
        },
        {
          "output_type": "execute_result",
          "data": {
            "image/png": "[encoded data removed]",
            "text/plain": [
              "<IPython.core.display.Image object>"
            ]
          },
          "metadata": {},
          "execution_count": 14
        }
      ]
    },
    {
      "cell_type": "markdown",
      "source": [
        "modelfit"
      ],
      "metadata": {
        "id": "WWjQN8Wr2GFi"
      }
    },
    {
      "cell_type": "code",
      "source": [
        "#Hyperparameters\n",
        "num_epochs = 100\n",
        "batch_size = 2\n",
        "learning_rate = 1e-3"
      ],
      "metadata": {
        "id": "3CnwZLnf1zKY"
      },
      "execution_count": null,
      "outputs": []
    },
    {
      "cell_type": "code",
      "source": [
        "# 모델 학습 loss, optimizer 정의\n",
        "adam = tf.keras.optimizers.Adam(learning_rate=learning_rate)\n",
        "model.compile(optimizer= adam, loss='mse')"
      ],
      "metadata": {
        "id": "D6St80m-2BCZ",
        "outputId": "0878c96e-903d-4bab-dbce-328dce7f80c2",
        "colab": {
          "base_uri": "https://localhost:8080/",
          "height": 221
        }
      },
      "execution_count": null,
      "outputs": [
        {
          "output_type": "error",
          "ename": "NameError",
          "evalue": "ignored",
          "traceback": [
            "\u001b[0;31m---------------------------------------------------------------------------\u001b[0m",
            "\u001b[0;31mNameError\u001b[0m                                 Traceback (most recent call last)",
            "\u001b[0;32m<ipython-input-17-45d6551673ce>\u001b[0m in \u001b[0;36m<cell line: 13>\u001b[0;34m()\u001b[0m\n\u001b[1;32m     11\u001b[0m     \u001b[0mkl_loss\u001b[0m \u001b[0;34m=\u001b[0m \u001b[0;36m0.5\u001b[0m \u001b[0;34m*\u001b[0m \u001b[0mtf\u001b[0m\u001b[0;34m.\u001b[0m\u001b[0mreduce_sum\u001b[0m\u001b[0;34m(\u001b[0m\u001b[0mtf\u001b[0m\u001b[0;34m.\u001b[0m\u001b[0msquare\u001b[0m\u001b[0;34m(\u001b[0m\u001b[0mz_mean\u001b[0m\u001b[0;34m)\u001b[0m\u001b[0;34m+\u001b[0m \u001b[0mtf\u001b[0m\u001b[0;34m.\u001b[0m\u001b[0mexp\u001b[0m\u001b[0;34m(\u001b[0m\u001b[0mz_log_var\u001b[0m\u001b[0;34m)\u001b[0m\u001b[0;34m-\u001b[0m \u001b[0mz_log_var\u001b[0m \u001b[0;34m-\u001b[0m\u001b[0;36m1\u001b[0m\u001b[0;34m,\u001b[0m \u001b[0;36m1\u001b[0m\u001b[0;34m)\u001b[0m\u001b[0;34m\u001b[0m\u001b[0;34m\u001b[0m\u001b[0m\n\u001b[1;32m     12\u001b[0m     \u001b[0;32mreturn\u001b[0m \u001b[0mtf\u001b[0m\u001b[0;34m.\u001b[0m\u001b[0mreduce_mean\u001b[0m\u001b[0;34m(\u001b[0m\u001b[0mreconstruction_loss\u001b[0m \u001b[0;34m+\u001b[0m \u001b[0mkl_loss\u001b[0m\u001b[0;34m)\u001b[0m \u001b[0;31m#ELBO(=VAE_loss)\u001b[0m\u001b[0;34m\u001b[0m\u001b[0;34m\u001b[0m\u001b[0m\n\u001b[0;32m---> 13\u001b[0;31m \u001b[0mmodel\u001b[0m\u001b[0;34m.\u001b[0m\u001b[0mcompile\u001b[0m\u001b[0;34m(\u001b[0m\u001b[0moptimizer\u001b[0m\u001b[0;34m=\u001b[0m \u001b[0madam\u001b[0m\u001b[0;34m,\u001b[0m \u001b[0mloss\u001b[0m\u001b[0;34m=\u001b[0m\u001b[0;34m'mse'\u001b[0m\u001b[0;34m)\u001b[0m\u001b[0;34m\u001b[0m\u001b[0;34m\u001b[0m\u001b[0m\n\u001b[0m",
            "\u001b[0;31mNameError\u001b[0m: name 'model' is not defined"
          ]
        }
      ]
    },
    {
      "cell_type": "code",
      "source": [
        "# 모델 학습\n",
        "hist = model.fit(x_train, x_train, epochs=num_epochs, batch_size=batch_size, shuffle=True, verbose=1)\n",
        "\n",
        "# 학습된 AE 모델 저장\n",
        "model.save_weights('ae_bracket.h5')"
      ],
      "metadata": {
        "id": "OsRhIhpy2Lhi"
      },
      "execution_count": null,
      "outputs": []
    },
    {
      "cell_type": "code",
      "source": [
        "recon_x_test = model.predict(x_test)                #\n",
        "\n",
        "n = 10  # how many digits we will display\n",
        "plt.figure(figsize=(15, 4))\n",
        "for i in range(10):\n",
        "    # display original\n",
        "    ax = plt.subplot(2, n, i + 1)\n",
        "    plt.imshow(x_test[i].reshape(56,56), vmin=0, vmax=1, cmap=\"gray\")\n",
        "    plt.title(\"Input\"+str(i))\n",
        "    ax.get_xaxis().set_visible(False)\n",
        "    ax.get_yaxis().set_visible(False)\n",
        "    #plt.colorbar()\n",
        "\n",
        "    # display reconstruction\n",
        "    ax = plt.subplot(2, n, i + 1 + n)\n",
        "    plt.imshow(recon_x_test[i].reshape(56, 56),vmin=0, vmax=1, cmap=\"gray\")\n",
        "    plt.title(\"Recon\"+str(i))\n",
        "    ax.get_xaxis().set_visible(False)\n",
        "    ax.get_yaxis().set_visible(False)\n",
        "    #plt.colorbar()\n",
        "plt.show()"
      ],
      "metadata": {
        "id": "53bgJg3R2Lv5"
      },
      "execution_count": null,
      "outputs": []
    }
  ]
}