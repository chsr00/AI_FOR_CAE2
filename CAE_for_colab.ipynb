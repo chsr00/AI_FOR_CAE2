{
  "nbformat": 4,
  "nbformat_minor": 0,
  "metadata": {
    "colab": {
      "provenance": [],
      "authorship_tag": "ABX9TyObZ0mUSNKase334FuPxsAG",
      "include_colab_link": true
    },
    "kernelspec": {
      "name": "python3",
      "display_name": "Python 3"
    },
    "language_info": {
      "name": "python"
    }
  },
  "cells": [
    {
      "cell_type": "markdown",
      "metadata": {
        "id": "view-in-github",
        "colab_type": "text"
      },
      "source": [
        "<a href=\"https://colab.research.google.com/github/chsr00/AI_FOR_CAE2/blob/main/CAE_for_colab.ipynb\" target=\"_parent\"><img src=\"https://colab.research.google.com/assets/colab-badge.svg\" alt=\"Open In Colab\"/></a>"
      ]
    },
    {
      "cell_type": "code",
      "execution_count": null,
      "metadata": {
        "id": "cDn_PvbVbdGp"
      },
      "outputs": [],
      "source": [
        "%tensorflow_version 2.x\n",
        "\n",
        "import cv2 as cv\n",
        "import numpy as np\n",
        "import matplotlib.pyplot as plt\n",
        "import os\n",
        "\n",
        "import tensorflow as tf\n",
        "from tensorflow.keras.layers import Conv2D, MaxPooling2D, Dense, Flatten, Dropout, UpSampling2D, Input, Convolution2D, Reshape\n",
        "from tensorflow.keras.models import Model\n",
        "from tensorflow.keras.optimizers import Adam\n",
        "from tensorflow.keras.utils import plot_model\n",
        "\n",
        "import scipy.io\n",
        "from sklearn.model_selection import train_test_split\n",
        "\n",
        "print(tf.__version__)"
      ]
    },
    {
      "cell_type": "code",
      "source": [
        "from google.colab import files\n",
        "\n",
        "uploaded = files.upload()\n",
        "\n",
        "# 코드가 돌아가면 파일선택 버튼을 눌러서 upload할 파일 선택\n",
        "for fn in uploaded.keys():\n",
        "  print('User uploaded file \"{name}\" with length {length} bytes'.format(\n",
        "      name=fn, length=len(uploaded[fn])))"
      ],
      "metadata": {
        "id": "VMfQGVescTko"
      },
      "execution_count": null,
      "outputs": []
    },
    {
      "cell_type": "code",
      "source": [
        "from google.colab import drive\n",
        "# google drive와 연결 (인증코드 입력해야함)\n",
        "drive.mount('/gdrive')\n",
        "\n",
        "# data_3000 폴더 만듦. zip 파일 압출 풀기\n",
        "! mkdir data_3000\n",
        "! unzip data_3000.zip -d ./data_3000"
      ],
      "metadata": {
        "id": "u-riZl-ucUpd"
      },
      "execution_count": null,
      "outputs": []
    },
    {
      "cell_type": "code",
      "source": [
        "# 압축해제된 데이터 경로 (데이터 있는 파일 경로 입력)\n",
        "src = './data_3000/'\n",
        "\n",
        "# 이미지 읽기 및 출력\n",
        "def img_read_plot(src,file):\n",
        "    img = cv.imread(src+file,cv.COLOR_BGR2GRAY)\n",
        "    plt.imshow(img)\n",
        "    plt.xticks([]) # x축 눈금\n",
        "    plt.yticks([]) # y축 눈금\n",
        "    plt.show()\n",
        "    return img\n",
        "\n",
        "#이미지 읽기\n",
        "def img_read(src,file):\n",
        "    img = cv.imread(src+file,cv.COLOR_BGR2GRAY)\n",
        "    return img\n",
        "\n",
        "#src 경로에 있는 파일 명을 저장\n",
        "files = os.listdir(src)\n",
        "\n",
        "X,Y = [],[]\n",
        "count = 0\n",
        "\n",
        "# 경로와 파일명을 입력으로 넣어 확인하고\n",
        "# 데이터를 255로 나눠서 0~1사이로 정규화 하여 X 리스트 추가\n",
        "\n",
        "for file in files:\n",
        "  # 데이터의 일부분만 확인해봅니다.\n",
        "  if count < 10 :\n",
        "    print(count)\n",
        "    X.append(img_read_plot(src,file)/255.)\n",
        "    Y.append(float(file[:-4]))\n",
        "    count+=1\n",
        "  else :\n",
        "    X.append(img_read(src,file)/255.)\n",
        "    Y.append(float(file[:-4]))\n",
        "\n",
        "# 전체 X, Y data shape 출력\n",
        "print('X_shape:',np.shape(X[0]),'Y_shape:',np.shape(Y[0]))\n",
        "print('X_list shape:',np.shape(X),'Y_list shape:',np.shape(Y))\n",
        "\n",
        "# hyper parameter 설정\n",
        "img_size = 56       # 이미지 사이즈\n",
        "latent_dim = 32     # latent dimension 크기 설정\n",
        "BUFFER_SIZE = 5600  # 총 이미지 갯수\n",
        "BATCH_SIZE = 20     # 배치 사이즈(나눴을때 이미지 갯수에 딱 떨어지게 설정해야 함)\n",
        "\n",
        "# Train set(80%), Test set(20%)으로 나누기\n",
        "X_train, X_test, Y_train, Y_test = train_test_split(X,Y, test_size=0.2, random_state=1,shuffle=True)\n",
        "\n",
        "# CNN layer에 들어갈 수 있게 (x, 56, 56, 1) 차원으로 맞춰줌\n",
        "X_train = np.reshape(X_train, (len(X_train), img_size, img_size, 1))\n",
        "X_test = np.reshape(X_test, (len(X_test), img_size, img_size, 1))\n",
        "print(np.shape(X_train),np.shape(X_test))"
      ],
      "metadata": {
        "id": "YniNZ0o_cYvv"
      },
      "execution_count": null,
      "outputs": []
    },
    {
      "cell_type": "code",
      "source": [
        "# 인코더\n",
        "def encoder():\n",
        "\n",
        "  model = tf.keras.Sequential()\n",
        "  model.add(Conv2D(5, (3, 3), activation='relu', padding='same', input_shape=(img_size, img_size, 1)))\n",
        "  model.add(MaxPooling2D((2, 2), padding='same'))\n",
        "  model.add(Conv2D(10, (3, 3), activation='relu', padding='same'))\n",
        "  model.add(MaxPooling2D((2, 2), padding='same'))\n",
        "  model.add(Conv2D(15, (3, 3), activation='relu', padding='same'))\n",
        "  model.add(MaxPooling2D((2, 2), padding='same'))\n",
        "  model.add(Conv2D(20, (3, 3), activation='relu', padding='same'))\n",
        "  model.add(MaxPooling2D((2, 2), padding='same'))\n",
        "  model.add(Conv2D(25, (3, 3), activation='relu', padding='same'))\n",
        "  model.add(Flatten())\n",
        "  # latent dimension으로 축소됨\n",
        "  model.add(Dense(latent_dim))\n",
        "\n",
        "  return model"
      ],
      "metadata": {
        "id": "TA2WkwFqciXA"
      },
      "execution_count": null,
      "outputs": []
    },
    {
      "cell_type": "code",
      "source": [
        "# 인코더 함수를 실행해서 모델을 build 후 변수에 집어넣고, 모델 구조를 살펴봄\n",
        "e_model = encoder()\n",
        "e_model.summary()\n",
        "plot_model(e_model, show_shapes=True)"
      ],
      "metadata": {
        "id": "9g9SDHlxciZ7"
      },
      "execution_count": null,
      "outputs": []
    },
    {
      "cell_type": "code",
      "source": [
        "# 디코더\n",
        "def decoder():\n",
        "\n",
        "  model = tf.keras.Sequential()\n",
        "  model.add(Dense(7 * 7 * 56, input_shape=(latent_dim,)))\n",
        "  model.add(Reshape((7, 7, 56)))\n",
        "  model.add(Conv2D(56, (2, 2), activation='relu', padding='same'))\n",
        "  model.add(UpSampling2D((2, 2)))\n",
        "  model.add(Conv2D(56, (2, 2), activation='relu', padding='same'))\n",
        "  model.add(UpSampling2D((2, 2)))\n",
        "  model.add(Conv2D(56, (2, 2), activation='relu', padding='same'))\n",
        "  model.add(UpSampling2D((2, 2)))\n",
        "  model.add(Dropout(0.5))\n",
        "  model.add(Conv2D(1, (2, 2), padding='same'))\n",
        "\n",
        "  return model"
      ],
      "metadata": {
        "id": "3sGKNeSncicz"
      },
      "execution_count": null,
      "outputs": []
    },
    {
      "cell_type": "code",
      "source": [
        "# 디코더 함수를 실행해서 모델을 build 후 변수에 집어넣고, 모델 구조를 살펴봄\n",
        "d_model = decoder()\n",
        "d_model.summary()\n",
        "plot_model(d_model, show_shapes=True)"
      ],
      "metadata": {
        "id": "dyD39I7FcxX-"
      },
      "execution_count": null,
      "outputs": []
    },
    {
      "cell_type": "code",
      "source": [
        "# 모델을 합쳐줌\n",
        "input_img = Input(shape=(img_size, img_size, 1))\n",
        "model = Model(input_img, d_model(e_model(input_img)), name='autoencoder')\n",
        "\n",
        "# optimizer 설정과 model complie하면서 optimizer와 loss 함수, loss 평가지표로 mae 설정\n",
        "adam=Adam(lr=0.00008, beta_1=0.9)\n",
        "model.compile(optimizer=adam, loss='mean_squared_error', metrics=['mae'])"
      ],
      "metadata": {
        "id": "2nDo0TXScyYn"
      },
      "execution_count": null,
      "outputs": []
    },
    {
      "cell_type": "code",
      "source": [
        "# model.fit을 써서 학습. 학습과정을 history에 저장\n",
        "history = model.fit(X_train, X_train,\n",
        "                    batch_size=20,\n",
        "                    epochs=100,\n",
        "                    verbose=2,\n",
        "                    validation_data=(X_test, X_test),\n",
        "                    shuffle=True)"
      ],
      "metadata": {
        "id": "PxwMq9-Dc2rE"
      },
      "execution_count": null,
      "outputs": []
    },
    {
      "cell_type": "code",
      "source": [
        "# summarize history for loss\n",
        "plt.plot(history.history['loss'])\n",
        "plt.title('train loss')\n",
        "plt.ylabel('loss')\n",
        "plt.xlabel('epoch')\n",
        "plt.legend(['train', 'test'], loc='upper left')\n",
        "plt.show()\n",
        "# summarize history for mean_absolute_error\n",
        "plt.plot(history.history['val_loss'])\n",
        "plt.title('test loss')\n",
        "plt.ylabel('loss')\n",
        "plt.xlabel('epoch')\n",
        "plt.legend(['train', 'test'], loc='upper left')\n",
        "plt.show()"
      ],
      "metadata": {
        "id": "yCtjNkt4c2t4"
      },
      "execution_count": null,
      "outputs": []
    },
    {
      "cell_type": "code",
      "source": [],
      "metadata": {
        "id": "KST8U5cJc9za"
      },
      "execution_count": null,
      "outputs": []
    },
    {
      "cell_type": "code",
      "source": [
        "sample_size = 10                        # 보여줄 sample 갯수 설정\n",
        "prediction = model.predict(X_test)      # test 데이터로 이미지 복원(predict 함수 사용)\n",
        "\n",
        "# plot 하기\n",
        "fig, ax = plt.subplots(2, sample_size, figsize=(15, 4))\n",
        "for i in range(sample_size):\n",
        "  org_img = X_test[i].reshape(56,56)\n",
        "  rec_img = prediction[i].reshape(56,56)\n",
        "\n",
        "  ax[0][i].set_axis_off()\n",
        "  ax[1][i].set_axis_off()\n",
        "\n",
        "  ax[0][i].imshow(org_img, cmap=plt.cm.bone)\n",
        "  ax[1][i].imshow(rec_img, cmap=plt.cm.bone)\n",
        "\n",
        "plt.show()"
      ],
      "metadata": {
        "id": "Q4IEyPvEc9-A"
      },
      "execution_count": null,
      "outputs": []
    }
  ]
}